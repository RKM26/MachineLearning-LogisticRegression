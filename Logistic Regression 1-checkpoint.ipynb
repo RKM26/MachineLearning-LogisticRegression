{
 "cells": [
  {
   "cell_type": "code",
   "execution_count": 3,
   "metadata": {},
   "outputs": [],
   "source": [
    "\n",
    "#########################################\n",
    "######### LOGISTIC REGRESSION ###########\n",
    "#########################################\n",
    "\n",
    "\n",
    "#-------------------------------------\n",
    "#                |(1)      /\n",
    "#                |      / \n",
    "#                |   /\n",
    "#          /     |(0.5)\n",
    "#      /         |\n",
    "#   /            |(-1)\n",
    "#--------------------------------------\n",
    "\n",
    "\n",
    "\n",
    "#(-z) sygmod =either 0 or 1\n",
    "# Theta unknowun\n",
    "#(z)=1/((1+e)^(-z))\n",
    "\n",
    "\n",
    "#  cost function=i \n",
    "# for y=1\n",
    "# log(sig((theta).Transpose*x))\n",
    "#  make the cost least\n",
    "# for y=0\n",
    "#  log(1-sig((theta).transpose*x))\n",
    "#\n",
    "#                 m  \n",
    "# J(theta)=-1/m * E(y*log(sig((theta).T*x)+(1-y) * log(1-sig(theta.T)*x)))\n",
    "#                i=1   \n",
    "\n"
   ]
  },
  {
   "cell_type": "code",
   "execution_count": 4,
   "metadata": {},
   "outputs": [],
   "source": [
    "\n",
    "#########################################\n",
    "########### Gradient Descent ############\n",
    "#########################################\n",
    "#                            m           i  i  i\n",
    "#  theta (j)=theta(j)- a/(m)*E(sig(theta*x)-y)*x\n"
   ]
  },
  {
   "cell_type": "code",
   "execution_count": 15,
   "metadata": {},
   "outputs": [],
   "source": [
    "import numpy as np\n",
    "import pandas as pd"
   ]
  },
  {
   "cell_type": "code",
   "execution_count": 6,
   "metadata": {},
   "outputs": [],
   "source": [
    "dt=pd.read_csv('https://archive.ics.uci.edu/ml/machine-learning-databases/breast-cancer-wisconsin/breast-cancer-wisconsin.data')"
   ]
  },
  {
   "cell_type": "code",
   "execution_count": 7,
   "metadata": {},
   "outputs": [],
   "source": [
    "dt.columns = list('abcdefghij')+['class']"
   ]
  },
  {
   "cell_type": "code",
   "execution_count": 8,
   "metadata": {},
   "outputs": [],
   "source": [
    "dt.columns = list('abcdefghij')+['class']"
   ]
  },
  {
   "cell_type": "code",
   "execution_count": 10,
   "metadata": {},
   "outputs": [
    {
     "data": {
      "text/plain": [
       "(pandas.core.frame.DataFrame,\n",
       " (698, 11),\n",
       " Index(['a', 'b', 'c', 'd', 'e', 'f', 'g', 'h', 'i', 'j', 'class'], dtype='object'))"
      ]
     },
     "execution_count": 10,
     "metadata": {},
     "output_type": "execute_result"
    }
   ],
   "source": [
    "type(dt),dt.shape,dt.columns"
   ]
  },
  {
   "cell_type": "code",
   "execution_count": 11,
   "metadata": {},
   "outputs": [
    {
     "data": {
      "text/plain": [
       "((698, 11), (698, 11))"
      ]
     },
     "execution_count": 11,
     "metadata": {},
     "output_type": "execute_result"
    }
   ],
   "source": [
    "dt.dropna().shape,dt.shape"
   ]
  },
  {
   "cell_type": "code",
   "execution_count": 12,
   "metadata": {},
   "outputs": [],
   "source": [
    "dt=dt.replace('?',15)"
   ]
  },
  {
   "cell_type": "code",
   "execution_count": 13,
   "metadata": {},
   "outputs": [],
   "source": [
    "dt['g']=dt['g'].astype(dtype='i')"
   ]
  },
  {
   "cell_type": "code",
   "execution_count": 14,
   "metadata": {},
   "outputs": [],
   "source": [
    "x=dt.drop(['a','class'],axis=1)"
   ]
  },
  {
   "cell_type": "code",
   "execution_count": 20,
   "metadata": {},
   "outputs": [],
   "source": [
    "y=np.where(dt['class']==2,0,1)\n",
    "\n",
    "from sklearn.model_selection import train_test_split\n",
    "x_tr,x_ts,y_tr,y_ts=train_test_split(x,y,test_size=0.2)\n"
   ]
  },
  {
   "cell_type": "code",
   "execution_count": 17,
   "metadata": {},
   "outputs": [],
   "source": [
    "def sig(z):\n",
    "    return 1/(1+np.exp(-z))"
   ]
  },
  {
   "cell_type": "code",
   "execution_count": 26,
   "metadata": {},
   "outputs": [],
   "source": [
    "import numpy.matlib as ml\n",
    "def cost(x,y,th):\n",
    "    t=ml.matrix(th)\n",
    "    dx=ml.matrix(x)\n",
    "    c=(y*np.array(np.log(sig(t*dx.T))))+(1-y)*np.array(np.log(1-sig(t*dx.T)))\n",
    "    return -1*c.mean()"
   ]
  },
  {
   "cell_type": "code",
   "execution_count": 27,
   "metadata": {},
   "outputs": [],
   "source": [
    "th=np.zeros((1,9))"
   ]
  },
  {
   "cell_type": "code",
   "execution_count": 28,
   "metadata": {},
   "outputs": [
    {
     "data": {
      "text/plain": [
       "0.6931471805599453"
      ]
     },
     "execution_count": 28,
     "metadata": {},
     "output_type": "execute_result"
    }
   ],
   "source": [
    "cost(x_tr,y_tr,th)"
   ]
  },
  {
   "cell_type": "code",
   "execution_count": 65,
   "metadata": {},
   "outputs": [],
   "source": [
    "def des(x,y,th):\n",
    "    t=ml.matrix(th)\n",
    "    dx=ml.matrix(x)\n",
    "    err=sig(t*dx.T)-y\n",
    "    \n",
    "    return th-np.array(0.01*(np.array(err.T)*x).mean())"
   ]
  },
  {
   "cell_type": "code",
   "execution_count": 66,
   "metadata": {},
   "outputs": [
    {
     "data": {
      "text/plain": [
       "array([[0.00233871, 0.00715054, 0.00655018, 0.00497312, 0.00204301,\n",
       "        0.00733871, 0.00324373, 0.00601254, 0.00115591]])"
      ]
     },
     "execution_count": 66,
     "metadata": {},
     "output_type": "execute_result"
    }
   ],
   "source": [
    "des(x_tr,y_tr,th)"
   ]
  },
  {
   "cell_type": "code",
   "execution_count": null,
   "metadata": {},
   "outputs": [],
   "source": []
  }
 ],
 "metadata": {
  "kernelspec": {
   "display_name": "Python 3",
   "language": "python",
   "name": "python3"
  },
  "language_info": {
   "codemirror_mode": {
    "name": "ipython",
    "version": 3
   },
   "file_extension": ".py",
   "mimetype": "text/x-python",
   "name": "python",
   "nbconvert_exporter": "python",
   "pygments_lexer": "ipython3",
   "version": "3.6.5"
  }
 },
 "nbformat": 4,
 "nbformat_minor": 2
}
